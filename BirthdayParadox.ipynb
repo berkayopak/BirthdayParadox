{
 "cells": [
  {
   "cell_type": "markdown",
   "metadata": {},
   "source": [
    "# Birthday Paradox\n",
    "\n",
    "In probability theory, the birthday problem or birthday paradox concerns the probability that, in a set of n randomly chosen people, some pair of them will have the same birthday. By the pigeonhole principle, the probability reaches 100% when the number of people reaches 367 (since there are only 366 possible birthdays, including February 29). However, 99.9% probability is reached with just 70 people, and 50% probability with 23 people. These conclusions are based on the assumption that each day of the year (excluding February 29) is equally probable for a birthday.\n",
    "\n",
    "It may well seem surprising that a group of just 23 individuals is required to reach a probability of 50% that two individuals in the group have the same birthday: this result is perhaps made more plausible by considering that the comparisons of birthday will actually be made between every possible pair of individuals = 23 × 22/2 = 253 comparisons, which is well over half the number of days in a year (183 at most), as opposed to fixing on one individual and comparing their birthday to everyone else's birthday.\n",
    "\n",
    "Real-world applications for the birthday paradox include a cryptographic attack called the birthday attack, which uses this probabilistic model to reduce the complexity of finding a collision for a hash function.\n",
    "\n",
    "## Calculating the probability\n",
    "\n",
    "In deference to widely published solutions concluding that 23 is the minimum number of people necessary to have a P(A) that is greater than 50%, the following calculation of P(A) will use 23 people as an example. If one numbers the 23 people from 1 to 23, the event that all 23 people have different birthdays is the same as the event that person 2 does not have the same birthday as person 1, and that person 3 does not have the same birthday as either person 1 or person 2, and so on, and finally that person 23 does not have the same birthday as any of persons 1 through 22. Let these events respectively be called \"Event 2\", \"Event 3\", and so on. One may also add an \"Event 1\", corresponding to the event of person 1 having a birthday, which occurs with probability 1. This conjunction of events may be computed using conditional probability: the probability of Event 2 is 364/365, as person 2 may have any birthday other than the birthday of person 1. Similarly, the probability of Event 3 given that Event 2 occurred is 363/365, as person 3 may have any of the birthdays not already taken by persons 1 and 2. This continues until finally the probability of Event 23 given that all preceding events occurred is 343/365. Finally, the principle of conditional probability implies that P(A′) is equal to the product of these individual probabilities:\n",
    "\n",
    "![alt text](https://wikimedia.org/api/rest_v1/media/math/render/svg/61ae67e88c81cf0e5a104ad945899c61f4ab9fe5)\n",
    "\n",
    "The terms of equation (1) can be collected to arrive at:\n",
    "\n",
    "![alt text](https://wikimedia.org/api/rest_v1/media/math/render/svg/ede5fde44fedfe898408c1e2e8192d903eb5c423)\n",
    "\n",
    "Evaluating equation (2) gives P(A′) ≈ 0.492703\n",
    "\n",
    "Therefore, P(A) ≈ 1 − 0.492703 = 0.507297 (50.7297%).\n",
    "\n",
    "\n",
    "\n",
    "## Approximations\n",
    "\n",
    "\n",
    "The Taylor series expansion of the exponential function (the constant e ≈ 2.718281828)\n",
    "\n",
    "![alt text](https://wikimedia.org/api/rest_v1/media/math/render/svg/4f67772264ca200424ea0f2f4270c7ecb31fba0e)\n",
    "\n",
    "provides a first-order approximation for ex for x ≪ 1:\n",
    "\n",
    "![alt text](https://wikimedia.org/api/rest_v1/media/math/render/svg/92fda2fe0341e81c735ec8f237647f4c5dd7e918)\n",
    "\n",
    "To apply this approximation to the first expression derived for p(n), set x = −a/365. Thus,\n",
    "\n",
    "![alt text](https://wikimedia.org/api/rest_v1/media/math/render/svg/e9e0ea74e03d760c748a9d866edf8433e5e784ac)\n",
    "\n",
    "Then, replace a with non-negative integers for each term in the formula of p(n) until a = n − 1, for example, when a = 1,\n",
    "\n",
    "![alt text](https://wikimedia.org/api/rest_v1/media/math/render/svg/1ea599c104d81192e4a969ae87ebe9652452a1db)\n",
    "\n",
    "The first expression derived for p(n) can be approximated as\n",
    "\n",
    "![alt text](https://wikimedia.org/api/rest_v1/media/math/render/svg/4fd4ab80d13b006755ca316f601f7c4d4c396653)\n",
    "\n",
    "Therefore,\n",
    "\n",
    "![alt text](https://wikimedia.org/api/rest_v1/media/math/render/svg/106543c49c75f1880745f5f240a443d918949331)\n",
    "\n",
    "An even coarser approximation is given by\n",
    "\n",
    "![alt text](https://wikimedia.org/api/rest_v1/media/math/render/svg/de33f4c3b2fa55e4b98013881fb81c9caed79489)\n",
    "\n",
    "\n",
    "In the example below, you see the possibility of any two people being born on the same day according to groups from 0 to 90 people:"
   ]
  },
  {
   "cell_type": "code",
   "execution_count": 41,
   "metadata": {},
   "outputs": [
    {
     "name": "stdout",
     "output_type": "stream",
     "text": [
      "[0.         0.         0.00273598 0.00818549 0.01630398 0.02702536\n",
      " 0.0402629  0.05591044 0.07384376 0.09392223 0.11599068 0.13988135\n",
      " 0.16541603 0.19240827 0.22066561 0.24999187 0.28018938 0.31106113\n",
      " 0.34241292 0.37405524 0.40580513 0.43748781 0.46893811 0.50000175\n",
      " 0.53053634 0.5604122  0.58951298 0.61773601 0.64499253 0.67120761\n",
      " 0.69632002 0.7202818  0.7430578  0.76462501 0.78497184 0.80409726\n",
      " 0.82200991 0.83872713 0.85427404 0.86868247 0.88199005 0.8942392\n",
      " 0.90547625 0.9157505  0.92511344 0.93361796 0.94131766 0.94826619\n",
      " 0.95451674 0.96012149 0.96513125 0.96959508 0.97355999 0.97707076\n",
      " 0.98016977 0.98289686 0.98528927 0.98738164 0.98920602 0.9907919\n",
      " 0.99216626 0.99335372 0.99437662 0.9952551  0.9960073  0.99664945\n",
      " 0.99719601 0.99765984 0.99805228 0.99838335 0.99866181 0.99889534\n",
      " 0.99909061 0.99925341 0.99938875 0.99950092 0.99959362 0.99967001\n",
      " 0.99973277 0.99978419 0.99982619 0.9998604  0.99988818 0.99991068\n",
      " 0.99992885 0.99994347 0.99995522 0.99996462 0.99997212 0.99997809]\n"
     ]
    }
   ],
   "source": [
    "%matplotlib inline\n",
    "from pylab import *\n",
    "import numpy as np\n",
    "    \n",
    "useYLogScale = False\n",
    "N=90\n",
    "n = np.arange(float(N))\n",
    "pbar=np.exp(-n* (n-1) / (2.0*365.0))\n",
    "p=1.0-pbar\n",
    "print(p)"
   ]
  },
  {
   "cell_type": "markdown",
   "metadata": {},
   "source": [
    "\n",
    "The graphs of the probabilities we see in the example are as follows:\n"
   ]
  },
  {
   "cell_type": "code",
   "execution_count": 37,
   "metadata": {},
   "outputs": [
    {
     "data": {
      "image/png": "[encoded data removed]",
      "text/plain": [
       "<Figure size 432x288 with 1 Axes>"
      ]
     },
     "metadata": {
      "needs_background": "light"
     },
     "output_type": "display_data"
    }
   ],
   "source": [
    "n05 = 0.5*(1.0+np.sqrt(1-8.0*365.0*np.log(1.0-0.5)))\n",
    "plot([n05,n05],[0.0,0.5],c='k', linestyle='--')\n",
    "plot([0.0,n05],[0.5,0.5],c='k', linestyle='--')\n",
    "text(23.5,0.02,' ~23')\n",
    "\n",
    "plot(n,p   ,c='r',label = 'Probability of a pair')\n",
    "plot(n,pbar,c='b',label = 'Probability of no matching pair')\n",
    "\n",
    "legend(loc='right')\n",
    "xlim(0, N)\n",
    "if useYLogScale:\n",
    "    ylim(1e-6, 1)\n",
    "    ax = gca()\n",
    "    ax.set_yscale('log')\n",
    "else:\n",
    "    step = 0.1\n",
    "    ylim(0, 1)\n",
    "    yticks(np.arange(0, 1 + step, step))\n",
    "xticks(range(0, N + 10, 10))\n",
    "grid(True, ls='-', c='#a0a0a0')\n",
    "\n",
    "xlabel('Number of people')\n",
    "ylabel('Probability')\n",
    "\n",
    "show()"
   ]
  },
  {
   "cell_type": "markdown",
   "metadata": {},
   "source": [
    "Click on this link [link](https://pudding.cool/2018/04/birthday-paradox/) for a visual and interactive expression of the birthday paradox\n",
    "\n",
    "### Sources\n",
    "\n",
    "* https://en.wikipedia.org/wiki/Birthday_problem\n",
    "* http://mathworld.wolfram.com/BirthdayProblem.html\n",
    "* https://github.com/Gjacquenot/Birthday_paradox_probability\n"
   ]
  }
 ],
 "metadata": {
  "kernelspec": {
   "display_name": "Python 3",
   "language": "python",
   "name": "python3"
  },
  "language_info": {
   "codemirror_mode": {
    "name": "ipython",
    "version": 3
   },
   "file_extension": ".py",
   "mimetype": "text/x-python",
   "name": "python",
   "nbconvert_exporter": "python",
   "pygments_lexer": "ipython3",
   "version": "3.7.0"
  }
 },
 "nbformat": 4,
 "nbformat_minor": 2
}
